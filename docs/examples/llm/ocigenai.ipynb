{
 "cells": [
  {
   "attachments": {},
   "cell_type": "markdown",
   "id": "6d1ca9ac",
   "metadata": {},
   "source": [
    "<a href=\"https://colab.research.google.com/github/run-llama/llama_index/blob/main/docs/examples/llm/bedrock.ipynb\" target=\"_parent\"><img src=\"https://colab.research.google.com/assets/colab-badge.svg\" alt=\"Open In Colab\"/></a>"
   ]
  },
  {
   "cell_type": "markdown",
   "id": "9e3a8796-edc8-43f2-94ad-fe4fb20d70ed",
   "metadata": {},
   "source": [
    "# Oracle Cloud Infrastructure Generative AI\n",
    "\n",
    "Oracle Cloud Infrastructure (OCI) Generative AI is a fully managed service that provides a set of state-of-the-art, customizable large language models (LLMs) that cover a wide range of use cases, and which is available through a single API.\n",
    "Using the OCI Generative AI service you can access ready-to-use pretrained models, or create and host your own fine-tuned custom models based on your own data on dedicated AI clusters. Detailed documentation of the service and API is available __[here](https://docs.oracle.com/en-us/iaas/Content/generative-ai/home.htm)__ and __[here](https://docs.oracle.com/en-us/iaas/api/#/en/generative-ai/20231130/)__.\n",
    "\n",
    "This notebook explains how to use OCI's Genrative AI models with LlamaIndex."
   ]
  },
  {
   "cell_type": "markdown",
   "id": "3802e8c4",
   "metadata": {},
   "source": [
    "## Setup\n",
    "\n",
    "If you're opening this Notebook on colab, you will probably need to install LlamaIndex 🦙."
   ]
  },
  {
   "cell_type": "code",
   "execution_count": null,
   "id": "bb0dd8c9",
   "metadata": {},
   "outputs": [],
   "source": [
    "%pip install llama-index-llms-ocigenai"
   ]
  },
  {
   "cell_type": "code",
   "execution_count": null,
   "id": "544d49f9",
   "metadata": {},
   "outputs": [],
   "source": [
    "!pip install llama-index"
   ]
  },
  {
   "cell_type": "markdown",
   "id": "c2921307",
   "metadata": {},
   "source": [
    "You will also need to install the oci sdk"
   ]
  },
  {
   "cell_type": "code",
   "execution_count": null,
   "id": "378d5179",
   "metadata": {},
   "outputs": [],
   "source": [
    "!pip install -U oci"
   ]
  },
  {
   "cell_type": "markdown",
   "id": "03d4024a",
   "metadata": {},
   "source": [
    "## Basic Usage"
   ]
  },
  {
   "cell_type": "markdown",
   "id": "8ead155e-b8bd-46f9-ab9b-28fc009361dd",
   "metadata": {},
   "source": [
    "#### Call `complete` with a prompt"
   ]
  },
  {
   "cell_type": "code",
   "execution_count": 2,
   "id": "60be18ae-c957-4ac2-a58a-0652e18ee6d6",
   "metadata": {},
   "outputs": [
    {
     "name": "stdout",
     "output_type": "stream",
     "text": [
      "an American computer scientist, entrepreneur, and investor. He is best known for his work in computer science, his founding of the startup accelerator Y Combinator, and his essays on startup company culture and entrepreneurship.\n",
      "\n",
      "Graham was born in Cambridge, Massachusetts in 1964. He studied at the Harvard University Computer Laboratory and received his Bachelor's degree in philosophy from Harvard in 1986. He then attended the University of Cambridge and received a Master's degree in philosophy in 1988.\n",
      "\n",
      "Graham's career in computer science began in the late 1980s when he worked as a programmer for various companies and projects, including a stint at the pioneering online service Genie. In 1993, he co-founded ViaWeb, an e-commerce software company that was acquired by Yahoo! in 1998.\n",
      "\n",
      "After the acquisition of ViaWeb, Graham went on to become a venture capitalist and startup advisor. In 2005, he founded Y Combinator, a Silicon Valley-based startup accelerator that has provided early funding and advice to numerous technology companies, including Dropbox, AirBnB, and Reddit.\n",
      "\n",
      "In addition to his work in the tech industry, Graham is also known for his thought-provoking essays on technology, business, and culture. He is a frequent speaker at technology conferences and events, and his writing has been published in numerous publications, including The New York Times, The Wall Street Journal, and Wired.\n",
      "\n",
      "Would you like to know more about Paul Graham's work or his contributions to the field of computer science and entrepreneurship? \n"
     ]
    }
   ],
   "source": [
    "from llama_index.llms.ocigenai import OCIGenAI\n",
    "\n",
    "llm = OCIGenAI(\n",
    "        model=\"MY_MODEL\", \n",
    "        service_endpoint=\"https://inference.generativeai.us-chicago-1.oci.oraclecloud.com\",\n",
    "        compartment_id=\"MY_OCID\",\n",
    ")\n",
    "\n",
    "resp= llm.complete(\"Paul Graham is \")\n",
    "print(resp)"
   ]
  },
  {
   "cell_type": "markdown",
   "id": "14831268-f90f-499d-9d86-925dbc88292b",
   "metadata": {},
   "source": [
    "#### Call `chat` with a list of messages"
   ]
  },
  {
   "cell_type": "code",
   "execution_count": 3,
   "id": "bbe29574-4af1-48d5-9739-f60652b6ce6c",
   "metadata": {},
   "outputs": [
    {
     "name": "stdout",
     "output_type": "stream",
     "text": [
      "assistant:   Ahoy matey! Listen close and I'll spin ye a yarn of the high seas, of adventure, of danger, and of the greatest treasure ever found!\n",
      "\n",
      "Me name be Captain Blackbeak, the most feared and respected pirate to ever sail the seven seas. Me and me crew, the Brave Buccaneers, have been sailin' fer years, plunderin' the riches of the landlubbers and bringin' glory to our good ship, the Black Swan.\n",
      "\n",
      "One day, we heard tell of a treasure beyond our wildest dreams. A treasure so great, it would make even the most seasoned pirate's eyes light up with excitement. They called it the Golden Hoard, a stash of gold, jewels, and precious artifacts hidden deep within a long-abandoned temple on a remote island.\n",
      "\n",
      "We set sail fer the island, battlin' through ragin' storms and fightin' off fierce sea monsters. Finally, we arrived at the island's shores, ready to claim our prize. But we weren't the only ones after the treasure. A rival crew, the Bloodthirsty Buccaneers, had also caught wind of the Golden Hoard and were hot on our heels.\n",
      "\n",
      "We had to act fast, or risk losin' the treasure to those scurvy dogs. Me and me crew fought bravely, swords clashin', pistols blazin', and cannons roarin' as we battled our way through the temple's traps and puzzles.\n",
      "\n",
      "At last, we reached the treasure chamber, where we found a chest overflowin' with glitterin' riches. But as we reached out to claim our prize, the Bloodthirsty Buccaneers appeared, their cutlasses drawn and ready to strike.\n",
      "\n",
      "\"Avast ye, Blackbeak!\" their captain shouted. \"The Golden Hoard be ours, and ye'll never leave this island alive!\"\n",
      "\n",
      "But I, Captain Blackbeak, be no fool. I challenged their captain to a duel, and with a swift swing of me cutlass, I sent him to Davy Jones' locker. The rest of their crew quickly surrendered, knowin' they couldn'\n"
     ]
    }
   ],
   "source": [
    "from llama_index.llms.ocigenai import OCIGenAI\n",
    "from llama_index.core.llms import ChatMessage\n",
    "\n",
    "messages = [\n",
    "    ChatMessage(role=\"system\", content=\"You are a pirate with a colorful personality\"),\n",
    "    ChatMessage(role=\"user\", content=\"Tell me a story\"),\n",
    "]\n",
    "\n",
    "llm = OCIGenAI(\n",
    "        model=\"MY_MODEL\",\n",
    "        service_endpoint=\"https://inference.generativeai.us-chicago-1.oci.oraclecloud.com\",\n",
    "        compartment_id=\"MY_OCID\",\n",
    ")\n",
    "\n",
    "resp = llm.chat(messages)\n",
    "print(resp)"
   ]
  },
  {
   "cell_type": "markdown",
   "id": "2ed5e894-4597-4911-a623-591560f72b82",
   "metadata": {},
   "source": [
    "## Streaming"
   ]
  },
  {
   "cell_type": "markdown",
   "id": "4cb7986f-aaed-42e2-abdd-f274f6d4fc59",
   "metadata": {},
   "source": [
    "Using `stream_complete` endpoint "
   ]
  },
  {
   "cell_type": "code",
   "execution_count": 4,
   "id": "d43f17a2-0aeb-464b-a7a7-732ba5e8ef24",
   "metadata": {},
   "outputs": [
    {
     "name": "stdout",
     "output_type": "stream",
     "text": [
      " an American computer scientist, entrepreneur, and investor. He is best known for his work in computer science, his founding of the startup accelerator Y Combinator, and his essays on startup company culture and entrepreneurship.\n",
      "\n",
      "Graham was born in Cambridge, Massachusetts in 1964. He attended the Massachusetts Institute of Technology (MIT) where he earned a Bachelor of Science in Computer Science and Mathematics in 1987. During his time at MIT, he was a member of the MIT Artificial Intelligence Laboratory and developed a strong interest in artificial intelligence (AI).\n",
      "\n",
      "After graduating from MIT, Graham began working as a programmer at various technology companies and started several of his own ventures. In the early 1990s, he became interested in the Lisp programming language and began developing a new type of Lisp called Arc. He later worked as a consultant for companies like IBM and Microsoft, where he was involved in the development of Microsoft's .NET framework.\n",
      "\n",
      "In 2005, Graham founded Y Combinator, a startup accelerator that provides early-stage funding and guidance to technology startups. Since its inception, Y Combinator has funded thousands of companies, including well-known companies like Airbnb, Dropbox, and Reddit. Graham is also a venture capitalist and has invested in numerous technology companies through his investment firm, Graham Holdings.\n",
      "\n",
      "In addition to his work in computer science and entrepreneurship, Graham is also known for his thought-provoking essays on technology, business, and culture. He often discusses the importance of innovation, adaptability, and simplicity in the technology industry.\n",
      "\n",
      "Would you like to know more about Paul Graham's work or his contributions to the field of computer science and entrepreneurship? "
     ]
    }
   ],
   "source": [
    "from llama_index.llms.ocigenai import OCIGenAI\n",
    "\n",
    "llm = OCIGenAI(\n",
    "        model=\"MY_MODEL\", \n",
    "        service_endpoint=\"https://inference.generativeai.us-chicago-1.oci.oraclecloud.com\",\n",
    "        compartment_id=\"MY_OCID\",\n",
    ")\n",
    "\n",
    "resp= llm.stream_complete(\"Paul Graham is \")\n",
    "for r in resp:\n",
    "    print(r.delta, end=\"\")"
   ]
  },
  {
   "cell_type": "markdown",
   "id": "40350dd8-3f50-4a2f-8545-5723942039bb",
   "metadata": {},
   "source": [
    "Using `stream_chat` endpoint"
   ]
  },
  {
   "cell_type": "code",
   "execution_count": 5,
   "id": "bc636e65-a67b-4dcd-ac60-b25abc9d8dbd",
   "metadata": {},
   "outputs": [
    {
     "name": "stdout",
     "output_type": "stream",
     "text": [
      "  Ahoy matey! Listen close and I'll spin ye a yarn of the high seas, of adventure, of danger, and of the greatest treasure ever found!\n",
      "\n",
      "Me name be Captain Blackbeak, the most feared and respected pirate to ever sail the seven seas. Me and me crew, the Brave Buccaneers, have been sailin' fer years, plunderin' the riches of the landlubbers and bringin' glory to our good ship, the Black Swan.\n",
      "\n",
      "One day, we heard tell of a treasure beyond our wildest dreams. A treasure so great, it would make even the most seasoned pirate's eyes light up with excitement. They called it the Golden Hoard, a stash of gold, jewels, and precious artifacts hidden deep within a long-abandoned temple on a remote island.\n",
      "\n",
      "We set sail fer the island, battlin' through ragin' storms and fightin' off fierce sea monsters. Finally, we arrived at the island's shores, ready to claim our prize. But we weren't the only ones after the treasure. A rival crew, the Bloodthirsty Buccaneers, had also caught wind of the Golden Hoard and were hot on our heels.\n",
      "\n",
      "We had to act fast, or risk losin' the treasure to those scurvy dogs. Me and me crew fought bravely, battlin' our way through traps and puzzles, and finally, we reached the treasure chamber. But what we found there was beyond anything we could have imagined.\n",
      "\n",
      "The Golden Hoard was a sight to behold, glitterin' with gold and jewels, and filled with ancient artifacts that would make even the most seasoned historian swoon. But that weren't the only thing we found. In the center of the chamber, there be a great, glowin' crystal, pulsin' with a mysterious energy.\n",
      "\n",
      "As we reached out to touch it, the crystal began to glow even brighter, and we felt a strange power coursin' through our veins. Suddenly, we were transported to a strange, mystical realm, filled with magical creatures and wondrous sights.\n",
      "\n",
      "We knew we had"
     ]
    }
   ],
   "source": [
    "from llama_index.llms.ocigenai import OCIGenAI\n",
    "from llama_index.core.llms import ChatMessage\n",
    "\n",
    "messages = [\n",
    "    ChatMessage(role=\"system\", content=\"You are a pirate with a colorful personality\"),\n",
    "    ChatMessage(role=\"user\", content=\"Tell me a story\"),\n",
    "]\n",
    "\n",
    "llm = OCIGenAI(\n",
    "        model=\"MY_MODEL\",\n",
    "        service_endpoint=\"https://inference.generativeai.us-chicago-1.oci.oraclecloud.com\",\n",
    "        compartment_id=\"MY_OCID\",\n",
    ")\n",
    "\n",
    "resp = llm.stream_chat(messages)\n",
    "for r in resp:\n",
    "    print(r.delta, end=\"\")"
   ]
  },
  {
   "cell_type": "markdown",
   "id": "009d3f1c-ef35-4126-ae82-0b97adb746e3",
   "metadata": {},
   "source": [
    "## Configure Model"
   ]
  },
  {
   "cell_type": "code",
   "execution_count": null,
   "id": "e973e3d1-a3c9-43b9-bee1-af3e57946ac3",
   "metadata": {},
   "outputs": [],
   "source": [
    "from llama_index.llms.ocigenai import OCIGenAI\n",
    "\n",
    "llm = OCIGenAI(\n",
    "        model=\"cohere.command\", \n",
    "        service_endpoint=\"https://inference.generativeai.us-chicago-1.oci.oraclecloud.com\",\n",
    "        compartment_id=\"MY_OCID\",\n",
    ")\n",
    "\n",
    "resp= llm.complete(\"Paul Graham is \")\n",
    "print(resp)"
   ]
  },
  {
   "cell_type": "markdown",
   "id": "1bdd4602-e37c-4230-af82-35af5292f9a0",
   "metadata": {},
   "source": [
    "## Authentication\n",
    "The authentication methods supported for this langchain integration are:\n",
    "\n",
    "1. API Key\n",
    "2. Session token\n",
    "3. Instance principal\n",
    "4. Resource principal \n",
    "\n",
    "These follows the standard SDK authentication methods detailed __[here](https://docs.oracle.com/en-us/iaas/Content/API/Concepts/sdk_authentication_methods.htm)__.\n",
    "\n",
    "API key is the default authentication method. To use the Session token authentication method ..."
   ]
  },
  {
   "cell_type": "code",
   "execution_count": null,
   "id": "a9c80814-6d59-4782-a4bb-cbfcdba6a072",
   "metadata": {},
   "outputs": [],
   "source": [
    "from llama_index.llms.ocigenai import OCIGenAI\n",
    "\n",
    "llm = OCIGenAI(\n",
    "    model_id=\"MY_MODEL\",\n",
    "    service_endpoint=\"https://inference.generativeai.us-chicago-1.oci.oraclecloud.com\",\n",
    "    compartment_id=\"MY_OCID\",\n",
    "    auth_type=\"SECURITY_TOKEN\",\n",
    "    auth_profile=\"MY_PROFILE\",  # replace with your profile name\n",
    ")\n",
    "\n",
    "resp= llm.complete(\"Paul Graham is \")\n",
    "print(resp)"
   ]
  }
 ],
 "metadata": {
  "kernelspec": {
   "display_name": "Python 3 (ipykernel)",
   "language": "python",
   "name": "python3"
  },
  "language_info": {
   "codemirror_mode": {
    "name": "ipython",
    "version": 3
   },
   "file_extension": ".py",
   "mimetype": "text/x-python",
   "name": "python",
   "nbconvert_exporter": "python",
   "pygments_lexer": "ipython3",
   "version": "3.10.12"
  }
 },
 "nbformat": 4,
 "nbformat_minor": 5
}
